{
 "cells": [
  {
   "cell_type": "code",
   "execution_count": 9,
   "id": "05fc349d-84d9-450e-853f-95c36e4b2738",
   "metadata": {
    "tags": []
   },
   "outputs": [
    {
     "name": "stdout",
     "output_type": "stream",
     "text": [
      "[[90.04079683 -2.49075622  1.24112347]\n",
      " [ 2.10384987 83.75933965 -6.96559675]\n",
      " [-4.14226695 -2.1483581  78.10088687]]\n",
      "[87.97628784+2.822573j 87.97628784-2.822573j 75.94844768+0.j      ]\n"
     ]
    }
   ],
   "source": [
    "import numpy as np\n",
    "\n",
    "shield_array = np.array( [[90.04079683,  2.49075622,  1.24112347],\n",
    "                          [-2.10384987, 83.75933965,  6.96559675],\n",
    "                          [-4.14226695,  2.1483581,  78.10088687]])\n",
    "shield_array2 = np.array( [[90.04079683, -2.49075622,  1.24112347],\n",
    "                           [ 2.10384987, 83.75933965, -6.96559675],\n",
    "                           [-4.14226695, -2.1483581,  78.10088687]])\n",
    "\n",
    "print(shield_array2)\n",
    "eigenvalues, eigenvectors = np.linalg.eig(shield_array2) \n",
    "print( eigenvalues)\n",
    "\n",
    "\n",
    "\n",
    "    "
   ]
  }
 ],
 "metadata": {
  "kernelspec": {
   "display_name": "Python 3 (ipykernel)",
   "language": "python",
   "name": "python3"
  },
  "language_info": {
   "codemirror_mode": {
    "name": "ipython",
    "version": 3
   },
   "file_extension": ".py",
   "mimetype": "text/x-python",
   "name": "python",
   "nbconvert_exporter": "python",
   "pygments_lexer": "ipython3",
   "version": "3.10.12"
  }
 },
 "nbformat": 4,
 "nbformat_minor": 5
}
