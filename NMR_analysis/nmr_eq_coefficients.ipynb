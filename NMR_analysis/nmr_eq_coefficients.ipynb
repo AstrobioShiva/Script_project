{
 "cells": [
  {
   "cell_type": "code",
   "execution_count": 1,
   "metadata": {},
   "outputs": [
    {
     "name": "stdout",
     "output_type": "stream",
     "text": [
      "Coefficients for spin 5/2 nuclei for 5/2 <--> 3/2 transition\n",
      "12.0 1.0 -8.0 -64.0 \n",
      "\n",
      "Coefficients for spin 5/2 nuclei for 3/2 <--> 1/2 transition\n",
      "6.0 1.0 10.0 8.0 \n",
      "\n",
      "Coefficients for spin 5/2 nuclei for 1/2 <--> -1/2 transition\n",
      "0.0 1.0 16.0 32.0 \n",
      "\n",
      "Coefficients for spin 5/2 nuclei for -1/2 <--> -3/2 transition\n",
      "-6.0 1.0 10.0 8.0 \n",
      "\n",
      "Coefficients for spin 5/2 nuclei for -3/2 <--> -5/2 transition\n",
      "-12.0 1.0 -8.0 -64.0 \n",
      "\n"
     ]
    }
   ],
   "source": [
    "#Calculate coefficient for transition frequency\n",
    "from fractions import Fraction\n",
    "I = 5/2 #spin of nuclei\n",
    "n = I #m quantum number for which coefficients are to be found\n",
    "\n",
    "\n",
    "A = [0]*2\n",
    "B = [0]*2\n",
    "C= [0]*2\n",
    "D= [0]*2\n",
    "\n",
    "while n>-I:\n",
    "    m =[n, n-1]\n",
    "    \n",
    "    for i in range(0,2):\n",
    "    \n",
    "        A[i] = 3*m[i]**2-(I*(I+1)) #first order quadrupolar frequency, quadrupolar-CSA, quadrupolar-ACS  cross  correlations\n",
    "        B[i] = m[i] #first order chemical shielding\n",
    "        C[i] = m[i]*(2*I*(I+1)-2*m[i]**2 - 1) #second  order  quadrupole\n",
    "        D[i] = m[i]*(4*I*(I+1) - 8*m[i]**2 - 1) #second  order  quadrupole\n",
    "    print( 'Coefficients for spin', Fraction(I), 'nuclei for', Fraction(m[0]),'<-->', Fraction(m[1]), 'transition')\n",
    "    print(A[i-1] - A[i], B[i-1] - B[i], C[i-1]- C[i], D[i-1]- D[i], '\\n')\n",
    "    n -= 1\n",
    "    \n",
    "\n"
   ]
  },
  {
   "cell_type": "code",
   "execution_count": 2,
   "metadata": {},
   "outputs": [
    {
     "name": "stdout",
     "output_type": "stream",
     "text": [
      "Coefficients for spin 7/2 nuclei 7/2<->5/2 transition\n",
      "18.0 1.0 -24.0 -156.0 \n",
      "\n",
      "Coefficients for spin 7/2 nuclei 5/2<->3/2 transition\n",
      "12.0 1.0 6.0 -36.0 \n",
      "\n",
      "Coefficients for spin 7/2 nuclei 3/2<->1/2 transition\n",
      "6.0 1.0 24.0 36.0 \n",
      "\n",
      "Coefficients for spin 7/2 nuclei 1/2<->-1/2 transition\n",
      "0.0 1.0 30.0 60.0 \n",
      "\n",
      "Coefficients for spin 7/2 nuclei -1/2<->-3/2 transition\n",
      "-6.0 1.0 24.0 36.0 \n",
      "\n",
      "Coefficients for spin 7/2 nuclei -3/2<->-5/2 transition\n",
      "-12.0 1.0 6.0 -36.0 \n",
      "\n",
      "Coefficients for spin 7/2 nuclei -5/2<->-7/2 transition\n",
      "-18.0 1.0 -24.0 -156.0 \n",
      "\n"
     ]
    }
   ],
   "source": [
    "from fractions import Fraction\n",
    "\n",
    "I = 7/2  # spin of nuclei\n",
    "n = I  # m quantum number for which coefficients are to be found\n",
    "\n",
    "coeffs = {}\n",
    "\n",
    "while n > -I:\n",
    "    m = [n, n - 1]\n",
    "    A = [3 * m[i]**2 - (I * (I + 1)) for i in range(2)]\n",
    "    B = [m[i] for i in range(2)]\n",
    "    C = [m[i] * (2 * I * (I + 1) - 2 * m[i]**2 - 1) for i in range(2)]\n",
    "    D = [m[i] * (4 * I * (I + 1) - 8 * m[i]**2 - 1) for i in range(2)]\n",
    "    key = f'{Fraction(m[0])}<->{Fraction(m[1])}'\n",
    "    coeffs[key] = {'A': A[0] - A[1], 'B': B[0] - B[1], 'C': C[0] - C[1], 'D': D[0] - D[1]}\n",
    "    n -= 1\n",
    "\n",
    "for k, v in coeffs.items():\n",
    "    print(f'Coefficients for spin {Fraction(I)} nuclei {k} transition')\n",
    "    print(v['A'], v['B'], v['C'], v['D'], '\\n')\n"
   ]
  }
 ],
 "metadata": {
  "kernelspec": {
   "display_name": "Python 3",
   "language": "python",
   "name": "python3"
  },
  "language_info": {
   "codemirror_mode": {
    "name": "ipython",
    "version": 3
   },
   "file_extension": ".py",
   "mimetype": "text/x-python",
   "name": "python",
   "nbconvert_exporter": "python",
   "pygments_lexer": "ipython3",
   "version": "3.10.12"
  },
  "orig_nbformat": 4,
  "vscode": {
   "interpreter": {
    "hash": "916dbcbb3f70747c44a77c7bcd40155683ae19c65e1c03b4aa3499c5328201f1"
   }
  }
 },
 "nbformat": 4,
 "nbformat_minor": 2
}
