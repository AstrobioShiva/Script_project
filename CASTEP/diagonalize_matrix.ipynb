{
 "cells": [
  {
   "cell_type": "code",
   "execution_count": 22,
   "id": "05fc349d-84d9-450e-853f-95c36e4b2738",
   "metadata": {
    "tags": []
   },
   "outputs": [
    {
     "name": "stdout",
     "output_type": "stream",
     "text": [
      "Matrix([[184.439210180645 + 2.48739364465098e-64*I, 0, 0], [0, -164.099171035289 - 1.25811886473973e-63*I, 0], [0, 0, -69.246939145356 - 1.3273429630807e-64*I]])\n",
      "Matrix([[184.439210180645, 0, 0], [0, -164.099171035289, 0], [0, 0, -69.2469391453560]])\n"
     ]
    }
   ],
   "source": [
    "import sympy as sp\n",
    "\n",
    "shield_array = sp.Matrix([[-62.9830, 166.2263, 80.5663], [172.4778, 65.9098, -24.7315], [-8.2278, 25.6984, -51.8337]])\n",
    "\n",
    "P_array, diag_array = shield_array.diagonalize()\n",
    "print( diag_array ) # include the imaginary components to verify they are negligible\n",
    "\n",
    "diag_array = re( diag_array ) # eliminate the negligible imaginary components\n",
    "print( diag_array )\n",
    "\n",
    "    "
   ]
  }
 ],
 "metadata": {
  "kernelspec": {
   "display_name": "Python 3 (ipykernel)",
   "language": "python",
   "name": "python3"
  },
  "language_info": {
   "codemirror_mode": {
    "name": "ipython",
    "version": 3
   },
   "file_extension": ".py",
   "mimetype": "text/x-python",
   "name": "python",
   "nbconvert_exporter": "python",
   "pygments_lexer": "ipython3",
   "version": "3.11.4"
  }
 },
 "nbformat": 4,
 "nbformat_minor": 5
}
