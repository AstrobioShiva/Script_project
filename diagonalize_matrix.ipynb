{
 "cells": [
  {
   "cell_type": "code",
   "execution_count": 18,
   "id": "05fc349d-84d9-450e-853f-95c36e4b2738",
   "metadata": {
    "tags": []
   },
   "outputs": [
    {
     "name": "stdout",
     "output_type": "stream",
     "text": [
      "[[-62.983  166.2263  80.5663]\n",
      " [172.4778  65.9098 -24.7315]\n",
      " [ -8.2278  25.6984 -51.8337]]\n",
      "[ 184.43921018 -164.09917104  -69.24693915]\n"
     ]
    }
   ],
   "source": [
    "import numpy as np\n",
    "\n",
    "shield_array = np.array([[-62.9830, 166.2263, 80.5663], #shielding tensor\n",
    "                         [172.4778, 65.9098, -24.7315], \n",
    "                         [-8.2278, 25.6984, -51.8337]])\n",
    "\n",
    "print(shield_array)\n",
    "eigenvalues, eigenvectors = np.linalg.eig(shield_array) \n",
    "print( eigenvalues)\n",
    "\n",
    "\n",
    "\n",
    "    "
   ]
  }
 ],
 "metadata": {
  "kernelspec": {
   "display_name": "Python 3 (ipykernel)",
   "language": "python",
   "name": "python3"
  },
  "language_info": {
   "codemirror_mode": {
    "name": "ipython",
    "version": 3
   },
   "file_extension": ".py",
   "mimetype": "text/x-python",
   "name": "python",
   "nbconvert_exporter": "python",
   "pygments_lexer": "ipython3",
   "version": "3.10.11"
  }
 },
 "nbformat": 4,
 "nbformat_minor": 5
}
